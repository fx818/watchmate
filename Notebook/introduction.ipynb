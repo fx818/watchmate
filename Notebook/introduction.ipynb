{
 "cells": [
  {
   "cell_type": "markdown",
   "metadata": {},
   "source": [
    "# API\n",
    "* Application programming interface\n",
    "* When we have to connect diff applications to communicate with each other\n",
    "* This is the middle man\n",
    "\n",
    "## Type of API\n",
    "### Private\n",
    "> within the organization\n",
    "### Partner\n",
    "> within businesses\n",
    "### Public\n",
    "> any third party like OpenWeather, CoinMarketCap for cryptcurrency etc..\n",
    "\n"
   ]
  },
  {
   "cell_type": "code",
   "execution_count": null,
   "metadata": {},
   "outputs": [],
   "source": []
  },
  {
   "cell_type": "markdown",
   "metadata": {},
   "source": [
    "## REST API\n",
    "> Endpoint -> URL after the base url\n",
    "\n",
    "> Method(CRUD)\n",
    "* create->POST\n",
    "* read->GET\n",
    "* update->PUT (only for individual element)\n",
    "* delete->DELETE (only for individual element)\n",
    "> Headers (usually called status code)\n",
    "\n",
    "> the data"
   ]
  },
  {
   "cell_type": "markdown",
   "metadata": {},
   "source": []
  }
 ],
 "metadata": {
  "kernelspec": {
   "display_name": "Python 3",
   "language": "python",
   "name": "python3"
  },
  "language_info": {
   "name": "python",
   "version": "3.12.2"
  }
 },
 "nbformat": 4,
 "nbformat_minor": 2
}
