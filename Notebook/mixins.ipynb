{
 "cells": [
  {
   "cell_type": "code",
   "execution_count": null,
   "metadata": {},
   "outputs": [],
   "source": []
  },
  {
   "cell_type": "markdown",
   "metadata": {},
   "source": [
    "## Mixins\n",
    ".list() - extract all the data\n",
    "\n",
    ".create() - when we need a post request\n",
    "\n",
    ".destroy() - when we need to delete\n",
    "\n",
    ".retrieve() - When we have to retrieve a individual element\n",
    "\n",
    ".update() - when we need to update"
   ]
  },
  {
   "cell_type": "markdown",
   "metadata": {},
   "source": []
  },
  {
   "cell_type": "code",
   "execution_count": null,
   "metadata": {},
   "outputs": [],
   "source": [
    "\n",
    "# Lets use generic views and mixins\n",
    "# Initially we will have mixins then generic views\n",
    "\n",
    "# class ReviewList(mixins.ListModelMixin, # listModelMixins for get request\n",
    "#                   mixins.CreateModelMixin, #CreateModelMixin for post request\n",
    "#                   generics.GenericAPIView):\n",
    "#     # We can't change the name of the two variable given below\n",
    "#     queryset = Reviews.objects.all()\n",
    "#     serializer_class = ReviewsSerializer\n",
    "\n",
    "#     def get(self, request, *args, **kwargs):\n",
    "#         return self.list(request, *args, **kwargs)\n",
    "\n",
    "#     def post(self, request, *args, **kwargs):\n",
    "#         return self.create(request, *args, **kwargs)\n",
    "    \n",
    "# class ReviewDetail(mixins.RetrieveModelMixin,\n",
    "#                    mixins.UpdateModelMixin,\n",
    "#                     mixins.DestroyModelMixin,\n",
    "#                    generics.GenericAPIView):\n",
    "#     queryset = Reviews.objects.all() \n",
    "#     serializer_class = ReviewsSerializer\n",
    "    \n",
    "#     def get(self, request, *args, **kwargs):\n",
    "#         return self.retrieve(request, *args, **kwargs)\n",
    "    \n",
    "#     def put(self, request, *args, **kwargs):\n",
    "#         return self.update(request, *args, **kwargs)\n",
    "\n",
    "#     def delete(self, request, *args, **kwargs):\n",
    "#         return self.destroy(request, *args, **kwargs)\n",
    "    \n",
    "    "
   ]
  }
 ],
 "metadata": {
  "kernelspec": {
   "display_name": "Python 3",
   "language": "python",
   "name": "python3"
  },
  "language_info": {
   "codemirror_mode": {
    "name": "ipython",
    "version": 3
   },
   "file_extension": ".py",
   "mimetype": "text/x-python",
   "name": "python",
   "nbconvert_exporter": "python",
   "pygments_lexer": "ipython3",
   "version": "3.12.2"
  }
 },
 "nbformat": 4,
 "nbformat_minor": 2
}
