{
 "cells": [
  {
   "cell_type": "markdown",
   "metadata": {},
   "source": [
    "from rest_framework import serializers\n",
    "from watchlist_app.models import Movie\n",
    "\n",
    "def name_len(value):\n",
    "    if len(value)<2:\n",
    "        raise serializers.ValidationError(\"Name is too short\")\n",
    "    return value\n",
    "        \n",
    "\n",
    "class MovieSerializer(serializers.Serializer):\n",
    "    id = serializers.IntegerField(read_only = True)\n",
    "    # here we are applying validators directly using functions\n",
    "    name = serializers.CharField(validators = [name_len])\n",
    "    description = serializers.CharField()\n",
    "    active = serializers.BooleanField()\n",
    "    \n",
    "    def create(self, validated_data):\n",
    "        # Used for POST method\n",
    "        return Movie.objects.create(**validated_data)\n",
    "    \n",
    "    \n",
    "    def update(self, instance, validated_data):\n",
    "        # For PUT\n",
    "        # Instance is the previous data\n",
    "        # We have to update the instance with the validated data and save it\n",
    "        instance.name = validated_data.get('name', instance.name)\n",
    "        instance.description = validated_data.get('description', instance.description)\n",
    "        instance.active = validated_data.get('active', instance.active)\n",
    "        instance.save()\n",
    "        return instance\n",
    "\n",
    "    # Field level validation for name\n",
    "    # def validate_name(self, value):\n",
    "    #     if len(value)<2:\n",
    "    #         raise serializers.ValidationError(\"Name is too short\")\n",
    "    #     else:\n",
    "    #         return value\n",
    "        \n",
    "        \n",
    "    # Object level validation\n",
    "    # Checking if name and desc are different\n",
    "    def validate(self, data):\n",
    "        if data['name'] == data['description']:\n",
    "            raise serializers.ValidationError(\"Title and description should be different\")\n",
    "        return data"
   ]
  }
 ],
 "metadata": {
  "language_info": {
   "name": "python"
  }
 },
 "nbformat": 4,
 "nbformat_minor": 2
}
