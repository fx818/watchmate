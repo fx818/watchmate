{
 "cells": [
  {
   "cell_type": "code",
   "execution_count": null,
   "metadata": {},
   "outputs": [],
   "source": []
  },
  {
   "cell_type": "markdown",
   "metadata": {},
   "source": [
    "# Validators\n",
    "> Field level -> only for a field\n",
    "\n",
    "> object level -> When we have a complete object and we check that object and add validation on the complete object\n",
    "\n",
    "> validators\n",
    "\n",
    "We use validation in serializers.py"
   ]
  },
  {
   "cell_type": "markdown",
   "metadata": {},
   "source": [
    "### Field level\n",
    "\n",
    "def validate_ <\"field name\">"
   ]
  },
  {
   "cell_type": "markdown",
   "metadata": {},
   "source": []
  },
  {
   "cell_type": "markdown",
   "metadata": {},
   "source": [
    "\n",
    "    #  Field level validation for name\n",
    "    def validate_name(self, value):\n",
    "        if len(value)<2:\n",
    "            raise serializers.ValidationError(\"Name is too short\")\n",
    "        else:\n",
    "            return value\n",
    "        \n",
    "        \n",
    "    # Object level validation\n",
    "    # Checking if name and desc are different\n",
    "    def validate(self, data):\n",
    "        if data['name'] == data['description']:\n",
    "            raise serializers.ValidationError(\"Title and description should be different\")\n",
    "        return data\n"
   ]
  }
 ],
 "metadata": {
  "language_info": {
   "name": "python"
  }
 },
 "nbformat": 4,
 "nbformat_minor": 2
}
