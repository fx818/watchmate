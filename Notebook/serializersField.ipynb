{
 "cells": [
  {
   "cell_type": "markdown",
   "metadata": {},
   "source": [
    "\n",
    "\n",
    "    # If you want to show some more field in the api u can create them here\n",
    "    # I want to show the length of the name\n",
    "    \n",
    "    len_name = serializers.SerializerMethodField()\n",
    "    \n",
    "\n",
    "\n",
    "\n",
    "\n",
    "    # func name should be get_<the name of the method u defined above>\n",
    "    def get_len_name(self, object):\n",
    "        return len(object.name)        \n",
    "\n",
    "\n",
    "\n",
    "\n"
   ]
  }
 ],
 "metadata": {
  "language_info": {
   "name": "python"
  }
 },
 "nbformat": 4,
 "nbformat_minor": 2
}
