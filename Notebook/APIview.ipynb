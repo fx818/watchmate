{
 "cells": [
  {
   "cell_type": "code",
   "execution_count": null,
   "metadata": {},
   "outputs": [],
   "source": [
    "\n",
    "# class ReviewsAV(APIView):\n",
    "    \n",
    "#     def get(self, request):\n",
    "#         data = Reviews.objects.all()\n",
    "#         serializer = ReviewsSerializer(data, many=True)\n",
    "#         return Response(serializer.data)\n",
    "    \n",
    "#     def post(self, request):\n",
    "#         data = request.data\n",
    "#         serializer = ReviewsSerializer(data = data)\n",
    "#         if serializer.is_valid():\n",
    "#             serializer.save()\n",
    "#             return Response(serializer.data)\n",
    "#         else:\n",
    "#             return Response({'Error': 'Invalid data provided'})\n",
    "  \n",
    "     \n",
    "     \n",
    "# class ReviewDetailAV(APIView):\n",
    "#     # watchlist = serializers.String\n",
    "#     def get(self, request, pk):\n",
    "#         try:\n",
    "#             data = Reviews.objects.get(pk = pk)\n",
    "#         except Reviews.DoesNotExist:\n",
    "#             return Response({'Error': 'Specified review does not exist'})\n",
    "#         serializer = ReviewsSerializer(data)\n",
    "#         return Response(serializer.data)\n",
    "\n",
    "#     def put(self, request, pk):\n",
    "#         data= Reviews.objects.get(pk = pk)\n",
    "#         serializer = ReviewsSerializer(data, request.data)\n",
    "#         if serializer.is_valid():\n",
    "#             serializer.save()\n",
    "#             return Response(serializer.data)\n",
    "#         else:\n",
    "#             return Response({'Error': 'Invalid'})\n",
    "    \n",
    "#     def delete(self, request, pk):\n",
    "#         review = Reviews.objects.get(pk = pk)\n",
    "#         review.delete()\n",
    "#         return Response({'Success':'Deleted'}, status = status.HTTP_204_NO_CONTENT)\n"
   ]
  }
 ],
 "metadata": {
  "language_info": {
   "name": "python"
  }
 },
 "nbformat": 4,
 "nbformat_minor": 2
}
